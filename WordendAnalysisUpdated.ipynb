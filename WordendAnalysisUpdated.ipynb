{
  "nbformat": 4,
  "nbformat_minor": 0,
  "metadata": {
    "colab": {
      "name": "WordendAnalysisUpdated.ipynb",
      "provenance": []
    },
    "kernelspec": {
      "name": "ir",
      "display_name": "R"
    }
  },
  "cells": [
    {
      "cell_type": "code",
      "metadata": {
        "id": "xsTPhAoS4hn8",
        "colab_type": "code",
        "outputId": "988e2806-b451-4434-d26f-8110a8677aff",
        "colab": {
          "base_uri": "https://localhost:8080/",
          "height": 149
        }
      },
      "source": [
        "library(stringr)\n",
        "nouns = 'drive\"/My Drive/nouns.csv'\n",
        "nouns$finalSegment = str_match(nouns$noun,\".$\")\n",
        "xtabs(~finalSegment+gender, nouns)\n",
        "notAorO = subset(nouns, finalSegment!=\"a\" & finalSegment!=\"o\")\n",
        "notAorO$finalSegment = str_match(notAorO$noun, \".$\")\n",
        "a = xtabs(~finalSegment+gender, notAorO)\n",
        "notAorO$final2Segments = str_match(notAorO$noun, \"..$\")\n",
        "b = xtabs(~final2Segments+gender, notAorO)\n",
        "notAorO$final3Segments = str_match(notAorO$noun, \"...$\")\n",
        "c = xtabs(~final3Segments+gender, notAorO)\n",
        "notAorO$final4Segments = str_match(notAorO$noun, \"....$\")\n",
        "d = xtabs(~final4Segments+gender, notAorO)\n",
        "\n",
        "# make a list of accuracy values for each segment list:\n",
        "getAccuracy <- function(x) {\n",
        "if (x[1]>x[1,2]){\n",
        "\t\taccuracies = (x[1]/(x[1]+x[1,2]))\n",
        "\t}else{ \n",
        "\t\taccuracies = (x[1,2]/(x[1]+x[1,2]))\n",
        "} \n",
        "for(i in (2:nrow(x))) {\n",
        "\tif (x[i]>x[i,2]){\n",
        "\t\taccuracies = c(accuracies,(x[i]/(x[i]+x[i,2])))\n",
        "\t}else{ \n",
        "\t\taccuracies = c(accuracies,(x[i,2]/(x[i]+x[i,2])))\n",
        "}}\n",
        "return(accuracies)\n",
        "}\n",
        "\n",
        "# sets of each segment list's accuracy %'s\n",
        "e = getAccuracy(a)\n",
        "f = getAccuracy(b)\n",
        "g = getAccuracy(c)\n",
        "h = getAccuracy(d)\n"
      ],
      "execution_count": 0,
      "outputs": [
        {
          "output_type": "error",
          "ename": "ERROR",
          "evalue": "ignored",
          "traceback": [
            "Error in nouns$noun: $ operator is invalid for atomic vectors\nTraceback:\n",
            "1. str_match(nouns$noun, \".$\")",
            "2. stri_match_first_regex(string, pattern, opts_regex = opts(pattern))"
          ]
        }
      ]
    }
  ]
}