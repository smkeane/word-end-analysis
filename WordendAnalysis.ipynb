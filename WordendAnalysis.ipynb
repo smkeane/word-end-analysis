{
  "nbformat": 4,
  "nbformat_minor": 0,
  "metadata": {
    "colab": {
      "name": "WordendAnalysis.ipynb",
      "provenance": []
    },
    "kernelspec": {
      "name": "ir",
      "display_name": "R"
    }
  },
  "cells": [
    {
      "cell_type": "code",
      "metadata": {
        "id": "xsTPhAoS4hn8",
        "colab_type": "code",
        "outputId": "4bdc43e4-9e24-46e7-9605-962831d3b94e",
        "colab": {
          "base_uri": "https://localhost:8080/",
          "height": 218
        }
      },
      "source": [
        "install.packages(\"stringr\")\n",
        "library(stringr)\n",
        "nouns = read.csv(\"nouns.csv\")\n",
        "nouns$finalSegment = str_match(nouns$noun,\".$\")\n",
        "xtabs(~finalSegment+gender, nouns)\n",
        "notAorO = subset(nouns, finalSegment!=\"a\" & finalSegment!=\"o\")\n",
        "notAorO$finalSegment = str_match(notAorO$noun, \".$\")\n",
        "a = xtabs(~finalSegment+gender, notAorO)\n",
        "notAorO$final2Segments = str_match(notAorO$noun, \"..$\")\n",
        "b = xtabs(~final2Segments+gender, notAorO)\n",
        "notAorO$final3Segments = str_match(notAorO$noun, \"...$\")\n",
        "c = xtabs(~final3Segments+gender, notAorO)\n",
        "notAorO$final4Segments = str_match(notAorO$noun, \"....$\")\n",
        "d = xtabs(~final4Segments+gender, notAorO)\n",
        "\n",
        "# make a list of accuracy values for each segment list:\n",
        "getAccuracy <- function(x) {\n",
        "if (x[1]>x[1,2]){\n",
        "\t\taccuracies = (x[1]/(x[1]+x[1,2]))\n",
        "\t}else{ \n",
        "\t\taccuracies = (x[1,2]/(x[1]+x[1,2]))\n",
        "} \n",
        "for(i in (2:nrow(x))) {\n",
        "\tif (x[i]>x[i,2]){\n",
        "\t\taccuracies = c(accuracies,(x[i]/(x[i]+x[i,2])))\n",
        "\t}else{ \n",
        "\t\taccuracies = c(accuracies,(x[i,2]/(x[i]+x[i,2])))\n",
        "}}\n",
        "return(accuracies)\n",
        "}\n",
        "\n",
        "# sets of each segment list's accuracy %'s\n",
        "e = getAccuracy(a)\n",
        "f = getAccuracy(b)\n",
        "g = getAccuracy(c)\n",
        "h = getAccuracy(d)\n",
        "\n",
        "# take samples of each 1,000 times w/ replacement:\n",
        "sim1 = replicate(10000, mean(sample(e, replace=T)))\n",
        "sim2 = replicate(10000, mean(sample(f, replace=T)))\n",
        "sim3 = replicate(10000, mean(sample(g, replace=T)))\n",
        "sim4 = replicate(10000, mean(sample(h, replace=T)))\n",
        "\n",
        "# find overlap between each:\n",
        "diff1VS2 = 100*mean(sim1 %in% sim2)\n",
        "diff2VS3 = 100*mean(sim2 %in% sim3)\n",
        "diff3VS4 = 100*mean(sim3 %in% sim4)\n"
      ],
      "execution_count": 1,
      "outputs": [
        {
          "output_type": "stream",
          "text": [
            "Warning message in file(file, \"rt\"):\n",
            "“cannot open file 'nouns.csv': No such file or directory”\n"
          ],
          "name": "stderr"
        },
        {
          "output_type": "error",
          "ename": "ERROR",
          "evalue": "ignored",
          "traceback": [
            "Error in file(file, \"rt\"): cannot open the connection\nTraceback:\n",
            "1. read.csv(\"nouns.csv\")",
            "2. read.table(file = file, header = header, sep = sep, quote = quote, \n .     dec = dec, fill = fill, comment.char = comment.char, ...)",
            "3. file(file, \"rt\")"
          ]
        }
      ]
    }
  ]
}